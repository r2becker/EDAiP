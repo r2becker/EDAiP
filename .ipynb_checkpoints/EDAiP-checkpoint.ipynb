{
 "cells": [
  {
   "cell_type": "code",
   "execution_count": null,
   "id": "ef48d919",
   "metadata": {},
   "outputs": [],
   "source": [
    "# Exploratory Data Analysis in Python\n",
    "# Chapter 1 - Getting to know a Dataset\n",
    "# Functions for initial exploration\n",
    "\n",
    "# Functions for initial exploration\n",
    "# Print the first five rows of unemployment\n",
    "print(unemployment.head())\n",
    "\n",
    "# Functions for initial exploration\n",
    "# Print a summary of non-missing values and data types in the unemployment DataFrame\n",
    "print(unemployment.info())\n",
    "\n",
    "# Functions for initial exploration\n",
    "# Print summary statistics for numerical columns in unemployment\n",
    "print(unemployment.describe())\n",
    "\n",
    "# Counting categorical values\n",
    "# Count the values associated with each continent in unemployment\n",
    "print(unemployment.value_counts('continent'))\n",
    "\n",
    "#Global unemployment in 2021\n",
    "# Import the required visualization libraries\n",
    "import seaborn as sns\n",
    "import matplotlib.pyplot as plt\n",
    "\n",
    "# Create a histogram of 2021 unemployment; show a full percent in each bin\n",
    "sns.histplot(data=unemployment, x='2021', binwidth=1)\n",
    "plt.show()\n",
    "\n",
    "# Data Validation\n",
    "# "
   ]
  },
  {
   "cell_type": "code",
   "execution_count": null,
   "id": "98191cf6",
   "metadata": {},
   "outputs": [],
   "source": [
    "# Exploratory Data Analysis in Python\n",
    "# Chapter 2 - Data Cleaning and Imputation\n"
   ]
  },
  {
   "cell_type": "code",
   "execution_count": null,
   "id": "bdfb841b",
   "metadata": {},
   "outputs": [],
   "source": [
    "# Exploratory Data Analysis in Python\n",
    "# Chapter 3 - Relationship in Data\n"
   ]
  },
  {
   "cell_type": "code",
   "execution_count": null,
   "id": "f192ebaf",
   "metadata": {},
   "outputs": [],
   "source": [
    "# Exploratory Data Analysis in Python\n",
    "# Chapter 4 - Turning Exploratory Analysis into Action\n"
   ]
  }
 ],
 "metadata": {
  "kernelspec": {
   "display_name": "Python 3 (ipykernel)",
   "language": "python",
   "name": "python3"
  },
  "language_info": {
   "codemirror_mode": {
    "name": "ipython",
    "version": 3
   },
   "file_extension": ".py",
   "mimetype": "text/x-python",
   "name": "python",
   "nbconvert_exporter": "python",
   "pygments_lexer": "ipython3",
   "version": "3.12.7"
  },
  "toc": {
   "base_numbering": 1,
   "nav_menu": {},
   "number_sections": true,
   "sideBar": true,
   "skip_h1_title": false,
   "title_cell": "Table of Contents",
   "title_sidebar": "Contents",
   "toc_cell": false,
   "toc_position": {},
   "toc_section_display": true,
   "toc_window_display": false
  }
 },
 "nbformat": 4,
 "nbformat_minor": 5
}
